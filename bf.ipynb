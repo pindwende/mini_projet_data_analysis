{
 "cells": [
  {
   "cell_type": "code",
   "execution_count": 156,
   "metadata": {
    "collapsed": true,
    "ExecuteTime": {
     "end_time": "2024-02-12T14:11:33.113355600Z",
     "start_time": "2024-02-12T14:11:33.093114700Z"
    }
   },
   "outputs": [],
   "source": [
    "#3 - Appliquer les opérations de prétraitement et filtres nécessaires à ce fichier, pour ne garder que les colonnes correspondantes"
   ]
  },
  {
   "cell_type": "code",
   "execution_count": 157,
   "outputs": [],
   "source": [
    "import pandas as pd"
   ],
   "metadata": {
    "collapsed": false,
    "ExecuteTime": {
     "end_time": "2024-02-12T14:11:33.124350200Z",
     "start_time": "2024-02-12T14:11:33.099106200Z"
    }
   }
  },
  {
   "cell_type": "code",
   "execution_count": 158,
   "outputs": [],
   "source": [
    "# Charger le fichier BF.txt dans un DataFrame\n",
    "df = pd.read_csv(\"BF.txt\", sep=\"\\t\", header=None)"
   ],
   "metadata": {
    "collapsed": false,
    "ExecuteTime": {
     "end_time": "2024-02-12T14:11:33.176749900Z",
     "start_time": "2024-02-12T14:11:33.113355600Z"
    }
   }
  },
  {
   "cell_type": "code",
   "execution_count": 159,
   "outputs": [],
   "source": [
    "# Sélectionner les colonnes pertinentes et renommer les colonnes\n",
    "df = df[[0, 1, 4, 5]]  # Sélectionner les colonnes d'identifiants, de noms de lieux, de latitudes et de longitudes\n",
    "df.columns = ['ID', 'location_name', 'lat', 'long']  # Renommer les colonnes"
   ],
   "metadata": {
    "collapsed": false,
    "ExecuteTime": {
     "end_time": "2024-02-12T14:11:33.182746400Z",
     "start_time": "2024-02-12T14:11:33.169164700Z"
    }
   }
  },
  {
   "cell_type": "code",
   "execution_count": 160,
   "outputs": [
    {
     "data": {
      "text/plain": "        ID       location_name       lat     long\n0  2282318              Pouéné   9.72908 -2.78660\n1  2285251  Léraba Occidentale  10.28333 -5.11667\n2  2287216           Kéléouoro   9.80748 -4.05023\n3  2294066         White Volta   8.70194 -0.99056\n4  2298457        Issana Bouga  10.91667 -1.18333\n5  2353158            Zyonguen  12.36667 -0.45000\n6  2353159           Zyiliwèlè  12.38333 -2.73333\n7  2353160              Zyanko  12.78333 -0.41667\n8  2353161               Zouta  13.14908 -1.28197\n9  2353162           Zourtenga  12.95741 -1.28745",
      "text/html": "<div>\n<style scoped>\n    .dataframe tbody tr th:only-of-type {\n        vertical-align: middle;\n    }\n\n    .dataframe tbody tr th {\n        vertical-align: top;\n    }\n\n    .dataframe thead th {\n        text-align: right;\n    }\n</style>\n<table border=\"1\" class=\"dataframe\">\n  <thead>\n    <tr style=\"text-align: right;\">\n      <th></th>\n      <th>ID</th>\n      <th>location_name</th>\n      <th>lat</th>\n      <th>long</th>\n    </tr>\n  </thead>\n  <tbody>\n    <tr>\n      <th>0</th>\n      <td>2282318</td>\n      <td>Pouéné</td>\n      <td>9.72908</td>\n      <td>-2.78660</td>\n    </tr>\n    <tr>\n      <th>1</th>\n      <td>2285251</td>\n      <td>Léraba Occidentale</td>\n      <td>10.28333</td>\n      <td>-5.11667</td>\n    </tr>\n    <tr>\n      <th>2</th>\n      <td>2287216</td>\n      <td>Kéléouoro</td>\n      <td>9.80748</td>\n      <td>-4.05023</td>\n    </tr>\n    <tr>\n      <th>3</th>\n      <td>2294066</td>\n      <td>White Volta</td>\n      <td>8.70194</td>\n      <td>-0.99056</td>\n    </tr>\n    <tr>\n      <th>4</th>\n      <td>2298457</td>\n      <td>Issana Bouga</td>\n      <td>10.91667</td>\n      <td>-1.18333</td>\n    </tr>\n    <tr>\n      <th>5</th>\n      <td>2353158</td>\n      <td>Zyonguen</td>\n      <td>12.36667</td>\n      <td>-0.45000</td>\n    </tr>\n    <tr>\n      <th>6</th>\n      <td>2353159</td>\n      <td>Zyiliwèlè</td>\n      <td>12.38333</td>\n      <td>-2.73333</td>\n    </tr>\n    <tr>\n      <th>7</th>\n      <td>2353160</td>\n      <td>Zyanko</td>\n      <td>12.78333</td>\n      <td>-0.41667</td>\n    </tr>\n    <tr>\n      <th>8</th>\n      <td>2353161</td>\n      <td>Zouta</td>\n      <td>13.14908</td>\n      <td>-1.28197</td>\n    </tr>\n    <tr>\n      <th>9</th>\n      <td>2353162</td>\n      <td>Zourtenga</td>\n      <td>12.95741</td>\n      <td>-1.28745</td>\n    </tr>\n  </tbody>\n</table>\n</div>"
     },
     "execution_count": 160,
     "metadata": {},
     "output_type": "execute_result"
    }
   ],
   "source": [
    "df.head(10)"
   ],
   "metadata": {
    "collapsed": false,
    "ExecuteTime": {
     "end_time": "2024-02-12T14:11:33.196738300Z",
     "start_time": "2024-02-12T14:11:33.179748Z"
    }
   }
  },
  {
   "cell_type": "code",
   "execution_count": 161,
   "outputs": [],
   "source": [
    "# Sauvegarder les données dans un fichier CSV\n",
    "df.to_csv(\"burkina_location.csv\", index=False)"
   ],
   "metadata": {
    "collapsed": false,
    "ExecuteTime": {
     "end_time": "2024-02-12T14:11:33.307684100Z",
     "start_time": "2024-02-12T14:11:33.197737800Z"
    }
   }
  },
  {
   "cell_type": "code",
   "execution_count": 162,
   "outputs": [],
   "source": [
    "#4 - Opérations sur le fichier CSV burkina_location.csv."
   ],
   "metadata": {
    "collapsed": false,
    "ExecuteTime": {
     "end_time": "2024-02-12T14:11:33.335982700Z",
     "start_time": "2024-02-12T14:11:33.243796700Z"
    }
   }
  },
  {
   "cell_type": "code",
   "execution_count": 163,
   "outputs": [],
   "source": [
    "# Charger le fichier CSV burkina_location.csv dans un DataFrame\n",
    "df_b_l = pd.read_csv(\"burkina_location.csv\")"
   ],
   "metadata": {
    "collapsed": false,
    "ExecuteTime": {
     "end_time": "2024-02-12T14:11:33.335982700Z",
     "start_time": "2024-02-12T14:11:33.255087600Z"
    }
   }
  },
  {
   "cell_type": "code",
   "execution_count": 164,
   "outputs": [
    {
     "data": {
      "text/plain": "        ID       location_name       lat     long\n0  2282318              Pouéné   9.72908 -2.78660\n1  2285251  Léraba Occidentale  10.28333 -5.11667\n2  2287216           Kéléouoro   9.80748 -4.05023\n3  2294066         White Volta   8.70194 -0.99056\n4  2298457        Issana Bouga  10.91667 -1.18333\n5  2353158            Zyonguen  12.36667 -0.45000\n6  2353159           Zyiliwèlè  12.38333 -2.73333\n7  2353160              Zyanko  12.78333 -0.41667\n8  2353161               Zouta  13.14908 -1.28197\n9  2353162           Zourtenga  12.95741 -1.28745",
      "text/html": "<div>\n<style scoped>\n    .dataframe tbody tr th:only-of-type {\n        vertical-align: middle;\n    }\n\n    .dataframe tbody tr th {\n        vertical-align: top;\n    }\n\n    .dataframe thead th {\n        text-align: right;\n    }\n</style>\n<table border=\"1\" class=\"dataframe\">\n  <thead>\n    <tr style=\"text-align: right;\">\n      <th></th>\n      <th>ID</th>\n      <th>location_name</th>\n      <th>lat</th>\n      <th>long</th>\n    </tr>\n  </thead>\n  <tbody>\n    <tr>\n      <th>0</th>\n      <td>2282318</td>\n      <td>Pouéné</td>\n      <td>9.72908</td>\n      <td>-2.78660</td>\n    </tr>\n    <tr>\n      <th>1</th>\n      <td>2285251</td>\n      <td>Léraba Occidentale</td>\n      <td>10.28333</td>\n      <td>-5.11667</td>\n    </tr>\n    <tr>\n      <th>2</th>\n      <td>2287216</td>\n      <td>Kéléouoro</td>\n      <td>9.80748</td>\n      <td>-4.05023</td>\n    </tr>\n    <tr>\n      <th>3</th>\n      <td>2294066</td>\n      <td>White Volta</td>\n      <td>8.70194</td>\n      <td>-0.99056</td>\n    </tr>\n    <tr>\n      <th>4</th>\n      <td>2298457</td>\n      <td>Issana Bouga</td>\n      <td>10.91667</td>\n      <td>-1.18333</td>\n    </tr>\n    <tr>\n      <th>5</th>\n      <td>2353158</td>\n      <td>Zyonguen</td>\n      <td>12.36667</td>\n      <td>-0.45000</td>\n    </tr>\n    <tr>\n      <th>6</th>\n      <td>2353159</td>\n      <td>Zyiliwèlè</td>\n      <td>12.38333</td>\n      <td>-2.73333</td>\n    </tr>\n    <tr>\n      <th>7</th>\n      <td>2353160</td>\n      <td>Zyanko</td>\n      <td>12.78333</td>\n      <td>-0.41667</td>\n    </tr>\n    <tr>\n      <th>8</th>\n      <td>2353161</td>\n      <td>Zouta</td>\n      <td>13.14908</td>\n      <td>-1.28197</td>\n    </tr>\n    <tr>\n      <th>9</th>\n      <td>2353162</td>\n      <td>Zourtenga</td>\n      <td>12.95741</td>\n      <td>-1.28745</td>\n    </tr>\n  </tbody>\n</table>\n</div>"
     },
     "execution_count": 164,
     "metadata": {},
     "output_type": "execute_result"
    }
   ],
   "source": [
    "df_b_l.head(10)"
   ],
   "metadata": {
    "collapsed": false,
    "ExecuteTime": {
     "end_time": "2024-02-12T14:11:33.336982600Z",
     "start_time": "2024-02-12T14:11:33.280699600Z"
    }
   }
  },
  {
   "cell_type": "code",
   "execution_count": 165,
   "outputs": [],
   "source": [
    "# Extraire les données contenant le nom 'gounghin' et les enregistrer sous le fichier gounghin.csv\n",
    "gounghin_df = df_b_l[df_b_l['location_name'].str.contains('gounghin', case=False)]\n",
    "gounghin_df.to_csv(\"gounghin.csv\", index=False)"
   ],
   "metadata": {
    "collapsed": false,
    "ExecuteTime": {
     "end_time": "2024-02-12T14:11:33.336982600Z",
     "start_time": "2024-02-12T14:11:33.296690300Z"
    }
   }
  },
  {
   "cell_type": "code",
   "execution_count": 166,
   "outputs": [],
   "source": [
    "# Extraire la sous-partie de la base de données dont les noms commencent par les lettres de \"A à P\"\n",
    "subset_df = df_b_l[df_b_l['location_name'].str[0].str.upper().between('A', 'P')]"
   ],
   "metadata": {
    "collapsed": false,
    "ExecuteTime": {
     "end_time": "2024-02-12T14:11:33.336982600Z",
     "start_time": "2024-02-12T14:11:33.312969100Z"
    }
   }
  },
  {
   "cell_type": "code",
   "execution_count": 167,
   "outputs": [
    {
     "data": {
      "text/plain": "          ID             location_name       lat     long\n0    2282318                    Pouéné   9.72908 -2.78660\n1    2285251        Léraba Occidentale  10.28333 -5.11667\n2    2287216                 Kéléouoro   9.80748 -4.05023\n4    2298457              Issana Bouga  10.91667 -1.18333\n137  2353290     Forêt Classée de Ziga  12.47106 -1.08644\n153  2353306                  Gounghin  12.06677 -1.42134\n320  2353473                 Dar Salam  12.36146 -1.63909\n389  2353543  Forêt Classée de Yendéré  10.15000 -5.06667\n414  2353568       Province du Yatenga  13.58333 -2.41667\n558  2353713     Forêt Classée de Yabo  12.98801 -1.50561",
      "text/html": "<div>\n<style scoped>\n    .dataframe tbody tr th:only-of-type {\n        vertical-align: middle;\n    }\n\n    .dataframe tbody tr th {\n        vertical-align: top;\n    }\n\n    .dataframe thead th {\n        text-align: right;\n    }\n</style>\n<table border=\"1\" class=\"dataframe\">\n  <thead>\n    <tr style=\"text-align: right;\">\n      <th></th>\n      <th>ID</th>\n      <th>location_name</th>\n      <th>lat</th>\n      <th>long</th>\n    </tr>\n  </thead>\n  <tbody>\n    <tr>\n      <th>0</th>\n      <td>2282318</td>\n      <td>Pouéné</td>\n      <td>9.72908</td>\n      <td>-2.78660</td>\n    </tr>\n    <tr>\n      <th>1</th>\n      <td>2285251</td>\n      <td>Léraba Occidentale</td>\n      <td>10.28333</td>\n      <td>-5.11667</td>\n    </tr>\n    <tr>\n      <th>2</th>\n      <td>2287216</td>\n      <td>Kéléouoro</td>\n      <td>9.80748</td>\n      <td>-4.05023</td>\n    </tr>\n    <tr>\n      <th>4</th>\n      <td>2298457</td>\n      <td>Issana Bouga</td>\n      <td>10.91667</td>\n      <td>-1.18333</td>\n    </tr>\n    <tr>\n      <th>137</th>\n      <td>2353290</td>\n      <td>Forêt Classée de Ziga</td>\n      <td>12.47106</td>\n      <td>-1.08644</td>\n    </tr>\n    <tr>\n      <th>153</th>\n      <td>2353306</td>\n      <td>Gounghin</td>\n      <td>12.06677</td>\n      <td>-1.42134</td>\n    </tr>\n    <tr>\n      <th>320</th>\n      <td>2353473</td>\n      <td>Dar Salam</td>\n      <td>12.36146</td>\n      <td>-1.63909</td>\n    </tr>\n    <tr>\n      <th>389</th>\n      <td>2353543</td>\n      <td>Forêt Classée de Yendéré</td>\n      <td>10.15000</td>\n      <td>-5.06667</td>\n    </tr>\n    <tr>\n      <th>414</th>\n      <td>2353568</td>\n      <td>Province du Yatenga</td>\n      <td>13.58333</td>\n      <td>-2.41667</td>\n    </tr>\n    <tr>\n      <th>558</th>\n      <td>2353713</td>\n      <td>Forêt Classée de Yabo</td>\n      <td>12.98801</td>\n      <td>-1.50561</td>\n    </tr>\n  </tbody>\n</table>\n</div>"
     },
     "execution_count": 167,
     "metadata": {},
     "output_type": "execute_result"
    }
   ],
   "source": [
    "subset_df.head(10)"
   ],
   "metadata": {
    "collapsed": false,
    "ExecuteTime": {
     "end_time": "2024-02-12T14:11:33.400008600Z",
     "start_time": "2024-02-12T14:11:33.332983900Z"
    }
   }
  },
  {
   "cell_type": "code",
   "execution_count": 168,
   "outputs": [],
   "source": [
    "# Identifier la latitude minimale, la longitude minimale et les noms de lieux correspondants\n",
    "min_lat = subset_df['lat'].min()\n",
    "min_lon = subset_df['long'].min()\n",
    "min_lat_lon_names = subset_df[(subset_df['lat'] == min_lat) | (subset_df['long'] == min_lon)]\n"
   ],
   "metadata": {
    "collapsed": false,
    "ExecuteTime": {
     "end_time": "2024-02-12T14:11:33.401007500Z",
     "start_time": "2024-02-12T14:11:33.352939500Z"
    }
   }
  },
  {
   "cell_type": "code",
   "execution_count": 169,
   "outputs": [
    {
     "name": "stdout",
     "output_type": "stream",
     "text": [
      "Latitude minimale : 5.21609\n",
      "Longitude minimale : -5.65968\n",
      "Noms de lieux correspondants à la latitude minimale et à la longitude minimale :\n",
      "            ID location_name       lat     long\n",
      "4221  2357400      Banifing  12.01147 -5.65968\n",
      "6018  2359210         Komoé   5.21609 -3.71793\n"
     ]
    }
   ],
   "source": [
    "# Afficher les résultats\n",
    "print(\"Latitude minimale :\", min_lat)\n",
    "print(\"Longitude minimale :\", min_lon)\n",
    "print(\"Noms de lieux correspondants à la latitude minimale et à la longitude minimale :\\n\", min_lat_lon_names)"
   ],
   "metadata": {
    "collapsed": false,
    "ExecuteTime": {
     "end_time": "2024-02-12T14:11:33.426088Z",
     "start_time": "2024-02-12T14:11:33.366229400Z"
    }
   }
  },
  {
   "cell_type": "code",
   "execution_count": 170,
   "outputs": [],
   "source": [
    "# Identifier les lieux dont les coordonnées sont comprises entre (lat >= 11 et lon <= 0.5)\n",
    "between_coords_df = df_b_l[(df_b_l['lat'] >= 11) & (df_b_l['long'] <= 0.5)]\n",
    "between_coords_df.to_csv(\"between_coords.csv\", index=False)"
   ],
   "metadata": {
    "collapsed": false,
    "ExecuteTime": {
     "end_time": "2024-02-12T14:11:33.505957300Z",
     "start_time": "2024-02-12T14:11:33.379020700Z"
    }
   }
  },
  {
   "cell_type": "code",
   "execution_count": 171,
   "outputs": [
    {
     "data": {
      "text/plain": "         ID location_name       lat     long\n5   2353158      Zyonguen  12.36667 -0.45000\n6   2353159     Zyiliwèlè  12.38333 -2.73333\n7   2353160        Zyanko  12.78333 -0.41667\n8   2353161         Zouta  13.14908 -1.28197\n9   2353162     Zourtenga  12.95741 -1.28745\n10  2353163   Zourma-Kita  11.39418 -0.79273\n11  2353164         Zouri  11.65000 -1.28333\n12  2353165         Zoura  13.28261 -1.47644\n13  2353166       Zoungwa  13.21895 -1.97142\n14  2353167       Zoungou  12.14441 -0.53169",
      "text/html": "<div>\n<style scoped>\n    .dataframe tbody tr th:only-of-type {\n        vertical-align: middle;\n    }\n\n    .dataframe tbody tr th {\n        vertical-align: top;\n    }\n\n    .dataframe thead th {\n        text-align: right;\n    }\n</style>\n<table border=\"1\" class=\"dataframe\">\n  <thead>\n    <tr style=\"text-align: right;\">\n      <th></th>\n      <th>ID</th>\n      <th>location_name</th>\n      <th>lat</th>\n      <th>long</th>\n    </tr>\n  </thead>\n  <tbody>\n    <tr>\n      <th>5</th>\n      <td>2353158</td>\n      <td>Zyonguen</td>\n      <td>12.36667</td>\n      <td>-0.45000</td>\n    </tr>\n    <tr>\n      <th>6</th>\n      <td>2353159</td>\n      <td>Zyiliwèlè</td>\n      <td>12.38333</td>\n      <td>-2.73333</td>\n    </tr>\n    <tr>\n      <th>7</th>\n      <td>2353160</td>\n      <td>Zyanko</td>\n      <td>12.78333</td>\n      <td>-0.41667</td>\n    </tr>\n    <tr>\n      <th>8</th>\n      <td>2353161</td>\n      <td>Zouta</td>\n      <td>13.14908</td>\n      <td>-1.28197</td>\n    </tr>\n    <tr>\n      <th>9</th>\n      <td>2353162</td>\n      <td>Zourtenga</td>\n      <td>12.95741</td>\n      <td>-1.28745</td>\n    </tr>\n    <tr>\n      <th>10</th>\n      <td>2353163</td>\n      <td>Zourma-Kita</td>\n      <td>11.39418</td>\n      <td>-0.79273</td>\n    </tr>\n    <tr>\n      <th>11</th>\n      <td>2353164</td>\n      <td>Zouri</td>\n      <td>11.65000</td>\n      <td>-1.28333</td>\n    </tr>\n    <tr>\n      <th>12</th>\n      <td>2353165</td>\n      <td>Zoura</td>\n      <td>13.28261</td>\n      <td>-1.47644</td>\n    </tr>\n    <tr>\n      <th>13</th>\n      <td>2353166</td>\n      <td>Zoungwa</td>\n      <td>13.21895</td>\n      <td>-1.97142</td>\n    </tr>\n    <tr>\n      <th>14</th>\n      <td>2353167</td>\n      <td>Zoungou</td>\n      <td>12.14441</td>\n      <td>-0.53169</td>\n    </tr>\n  </tbody>\n</table>\n</div>"
     },
     "execution_count": 171,
     "metadata": {},
     "output_type": "execute_result"
    }
   ],
   "source": [
    "between_coords_df.head(10)"
   ],
   "metadata": {
    "collapsed": false,
    "ExecuteTime": {
     "end_time": "2024-02-12T14:11:33.506956300Z",
     "start_time": "2024-02-12T14:11:33.418093300Z"
    }
   }
  },
  {
   "cell_type": "code",
   "execution_count": 172,
   "outputs": [],
   "source": [
    "#5 - Sorties Excel"
   ],
   "metadata": {
    "collapsed": false,
    "ExecuteTime": {
     "end_time": "2024-02-12T14:11:33.507956Z",
     "start_time": "2024-02-12T14:11:33.437081500Z"
    }
   }
  },
  {
   "cell_type": "code",
   "execution_count": 173,
   "outputs": [],
   "source": [
    "from openpyxl import Workbook"
   ],
   "metadata": {
    "collapsed": false,
    "ExecuteTime": {
     "end_time": "2024-02-12T14:11:33.540936500Z",
     "start_time": "2024-02-12T14:11:33.453709300Z"
    }
   }
  },
  {
   "cell_type": "code",
   "execution_count": 174,
   "outputs": [],
   "source": [
    "# Charger les données extraites de l'étape 4.1 (gounghin.csv)\n",
    "gounghin_df_ = pd.read_csv(\"gounghin.csv\")"
   ],
   "metadata": {
    "collapsed": false,
    "ExecuteTime": {
     "end_time": "2024-02-12T14:11:33.571918700Z",
     "start_time": "2024-02-12T14:11:33.471698200Z"
    }
   }
  },
  {
   "cell_type": "code",
   "execution_count": 175,
   "outputs": [],
   "source": [
    "# Créer un nouveau classeur Excel\n",
    "wb = Workbook()"
   ],
   "metadata": {
    "collapsed": false,
    "ExecuteTime": {
     "end_time": "2024-02-12T14:11:33.575916600Z",
     "start_time": "2024-02-12T14:11:33.484625Z"
    }
   }
  },
  {
   "cell_type": "code",
   "execution_count": 176,
   "outputs": [],
   "source": [
    "# Créer une feuille et enregistrer les données de gounghin_df\n",
    "ws1 = wb.create_sheet(title=\"gounghin\")\n",
    "for idx, row in gounghin_df_.iterrows():\n",
    "    ws1.append(row.tolist())  # Convertir la série en liste avant de l'ajouter à la feuille"
   ],
   "metadata": {
    "collapsed": false,
    "ExecuteTime": {
     "end_time": "2024-02-12T14:11:33.575916600Z",
     "start_time": "2024-02-12T14:11:33.494632600Z"
    }
   }
  },
  {
   "cell_type": "code",
   "execution_count": 177,
   "outputs": [],
   "source": [
    "# Créer une seconde feuille et enregistrer les données de A_to_P_df\n",
    "ws2 = wb.create_sheet(title=\"A_to_P\")\n",
    "for idx, row in subset_df.iterrows():\n",
    "    ws2.append(row.tolist())  # Convertir la série en liste avant de l'ajouter à la feuille"
   ],
   "metadata": {
    "collapsed": false,
    "ExecuteTime": {
     "end_time": "2024-02-12T14:11:34.604821700Z",
     "start_time": "2024-02-12T14:11:33.503958400Z"
    }
   }
  },
  {
   "cell_type": "code",
   "execution_count": 178,
   "outputs": [],
   "source": [
    "# Enregistrer le classeur Excel\n",
    "wb.save(\"mini_projet.xlsx\")"
   ],
   "metadata": {
    "collapsed": false,
    "ExecuteTime": {
     "end_time": "2024-02-12T14:11:35.397160700Z",
     "start_time": "2024-02-12T14:11:34.597825600Z"
    }
   }
  }
 ],
 "metadata": {
  "kernelspec": {
   "display_name": "Python 3",
   "language": "python",
   "name": "python3"
  },
  "language_info": {
   "codemirror_mode": {
    "name": "ipython",
    "version": 2
   },
   "file_extension": ".py",
   "mimetype": "text/x-python",
   "name": "python",
   "nbconvert_exporter": "python",
   "pygments_lexer": "ipython2",
   "version": "2.7.6"
  }
 },
 "nbformat": 4,
 "nbformat_minor": 0
}
